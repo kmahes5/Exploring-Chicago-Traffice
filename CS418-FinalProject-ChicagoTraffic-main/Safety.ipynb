{
 "cells": [
  {
   "cell_type": "code",
   "execution_count": 47,
   "id": "cf4fdfad-d657-4e68-98a3-8f7becd1a564",
   "metadata": {},
   "outputs": [],
   "source": [
    "import pandas as pd\n",
    "import geopandas as gpd\n",
    "import datetime as date\n",
    "\n",
    "import matplotlib.pyplot as plt\n",
    "from shapely.geometry import Point"
   ]
  },
  {
   "cell_type": "markdown",
   "id": "56d7031e",
   "metadata": {},
   "source": [
    "Reading the \"Traffic_Crashes_-_People.csv\" file into the variable crashes to create a pandas dataframe."
   ]
  },
  {
   "cell_type": "code",
   "execution_count": 48,
   "id": "f1a4f6c8-dd17-4af9-ba15-c0784b59eba8",
   "metadata": {},
   "outputs": [
    {
     "name": "stdout",
     "output_type": "stream",
     "text": [
      "['PERSON_ID', 'PERSON_TYPE', 'CRASH_RECORD_ID', 'RD_NO', 'VEHICLE_ID', 'CRASH_DATE', 'SEAT_NO', 'CITY', 'STATE', 'ZIPCODE', 'SEX', 'AGE', 'DRIVERS_LICENSE_STATE', 'DRIVERS_LICENSE_CLASS', 'SAFETY_EQUIPMENT', 'AIRBAG_DEPLOYED', 'EJECTION', 'INJURY_CLASSIFICATION', 'HOSPITAL', 'EMS_AGENCY', 'EMS_RUN_NO', 'DRIVER_ACTION', 'DRIVER_VISION', 'PHYSICAL_CONDITION', 'PEDPEDAL_ACTION', 'PEDPEDAL_VISIBILITY', 'PEDPEDAL_LOCATION', 'BAC_RESULT', 'BAC_RESULT VALUE', 'CELL_PHONE_USE']\n"
     ]
    }
   ],
   "source": [
    "crashes = pd.read_csv('Traffic_Crashes_-_People.csv', low_memory = False)\n",
    "print(crashes.columns.values.tolist())"
   ]
  },
  {
   "cell_type": "markdown",
   "id": "25be8bf1",
   "metadata": {},
   "source": [
    "Converting the data in the 'CRASH_DATE' column from date and time type to just date type using the datetime library"
   ]
  },
  {
   "cell_type": "code",
   "execution_count": 49,
   "id": "2beec6a9",
   "metadata": {},
   "outputs": [],
   "source": [
    "crashes['CRASH_DATE'] = pd.to_datetime(crashes['CRASH_DATE']).dt.date"
   ]
  },
  {
   "cell_type": "markdown",
   "id": "4aa851d8",
   "metadata": {},
   "source": [
    "Extracting only the data from 8/1/2020 to 8/1/2022 and stored inside the variable dates."
   ]
  },
  {
   "cell_type": "code",
   "execution_count": 50,
   "id": "19910181-5f0c-40a6-918e-e46a62d31324",
   "metadata": {},
   "outputs": [],
   "source": [
    "dBefore = date.date(2020, 8, 1)\n",
    "dAfter = date.date(2022, 8, 1)\n",
    "dates = crashes[(crashes['CRASH_DATE'] > dBefore) & (crashes['CRASH_DATE'] < dAfter)]"
   ]
  },
  {
   "cell_type": "markdown",
   "id": "d3ba420e",
   "metadata": {},
   "source": [
    "Dropping the columns that will not be used in the future cells to visualize data."
   ]
  },
  {
   "cell_type": "code",
   "execution_count": 51,
   "id": "d6851a41",
   "metadata": {},
   "outputs": [
    {
     "data": {
      "text/html": [
       "<div>\n",
       "<style scoped>\n",
       "    .dataframe tbody tr th:only-of-type {\n",
       "        vertical-align: middle;\n",
       "    }\n",
       "\n",
       "    .dataframe tbody tr th {\n",
       "        vertical-align: top;\n",
       "    }\n",
       "\n",
       "    .dataframe thead th {\n",
       "        text-align: right;\n",
       "    }\n",
       "</style>\n",
       "<table border=\"1\" class=\"dataframe\">\n",
       "  <thead>\n",
       "    <tr style=\"text-align: right;\">\n",
       "      <th></th>\n",
       "      <th>PERSON_ID</th>\n",
       "      <th>CRASH_DATE</th>\n",
       "      <th>CITY</th>\n",
       "      <th>STATE</th>\n",
       "      <th>ZIPCODE</th>\n",
       "      <th>SEX</th>\n",
       "      <th>AGE</th>\n",
       "      <th>SAFETY_EQUIPMENT</th>\n",
       "      <th>INJURY_CLASSIFICATION</th>\n",
       "    </tr>\n",
       "  </thead>\n",
       "  <tbody>\n",
       "    <tr>\n",
       "      <th>44</th>\n",
       "      <td>O1304796</td>\n",
       "      <td>2022-03-25</td>\n",
       "      <td>CHICAGO</td>\n",
       "      <td>IL</td>\n",
       "      <td>60641</td>\n",
       "      <td>M</td>\n",
       "      <td>28.0</td>\n",
       "      <td>SAFETY BELT USED</td>\n",
       "      <td>NO INDICATION OF INJURY</td>\n",
       "    </tr>\n",
       "    <tr>\n",
       "      <th>45</th>\n",
       "      <td>O1304797</td>\n",
       "      <td>2022-03-25</td>\n",
       "      <td>CHICAGO</td>\n",
       "      <td>IL</td>\n",
       "      <td>60651</td>\n",
       "      <td>M</td>\n",
       "      <td>27.0</td>\n",
       "      <td>SAFETY BELT USED</td>\n",
       "      <td>NO INDICATION OF INJURY</td>\n",
       "    </tr>\n",
       "    <tr>\n",
       "      <th>47</th>\n",
       "      <td>O1304802</td>\n",
       "      <td>2022-03-25</td>\n",
       "      <td>SKOKIE</td>\n",
       "      <td>IL</td>\n",
       "      <td>60076</td>\n",
       "      <td>F</td>\n",
       "      <td>29.0</td>\n",
       "      <td>SAFETY BELT USED</td>\n",
       "      <td>NO INDICATION OF INJURY</td>\n",
       "    </tr>\n",
       "    <tr>\n",
       "      <th>52</th>\n",
       "      <td>O1304805</td>\n",
       "      <td>2022-03-25</td>\n",
       "      <td>NEW IBERIA</td>\n",
       "      <td>LA</td>\n",
       "      <td>70563</td>\n",
       "      <td>M</td>\n",
       "      <td>58.0</td>\n",
       "      <td>USAGE UNKNOWN</td>\n",
       "      <td>NO INDICATION OF INJURY</td>\n",
       "    </tr>\n",
       "    <tr>\n",
       "      <th>53</th>\n",
       "      <td>O1304808</td>\n",
       "      <td>2022-03-25</td>\n",
       "      <td>VALPARAISO</td>\n",
       "      <td>IN</td>\n",
       "      <td>46383</td>\n",
       "      <td>M</td>\n",
       "      <td>32.0</td>\n",
       "      <td>SAFETY BELT USED</td>\n",
       "      <td>NONINCAPACITATING INJURY</td>\n",
       "    </tr>\n",
       "  </tbody>\n",
       "</table>\n",
       "</div>"
      ],
      "text/plain": [
       "   PERSON_ID  CRASH_DATE        CITY STATE ZIPCODE SEX   AGE  \\\n",
       "44  O1304796  2022-03-25     CHICAGO    IL   60641   M  28.0   \n",
       "45  O1304797  2022-03-25     CHICAGO    IL   60651   M  27.0   \n",
       "47  O1304802  2022-03-25      SKOKIE    IL   60076   F  29.0   \n",
       "52  O1304805  2022-03-25  NEW IBERIA    LA   70563   M  58.0   \n",
       "53  O1304808  2022-03-25  VALPARAISO    IN   46383   M  32.0   \n",
       "\n",
       "    SAFETY_EQUIPMENT     INJURY_CLASSIFICATION  \n",
       "44  SAFETY BELT USED   NO INDICATION OF INJURY  \n",
       "45  SAFETY BELT USED   NO INDICATION OF INJURY  \n",
       "47  SAFETY BELT USED   NO INDICATION OF INJURY  \n",
       "52     USAGE UNKNOWN   NO INDICATION OF INJURY  \n",
       "53  SAFETY BELT USED  NONINCAPACITATING INJURY  "
      ]
     },
     "execution_count": 51,
     "metadata": {},
     "output_type": "execute_result"
    }
   ],
   "source": [
    "toDrop = ['PERSON_TYPE', 'CRASH_RECORD_ID', 'RD_NO', 'VEHICLE_ID', 'SEAT_NO', 'DRIVERS_LICENSE_STATE', 'DRIVERS_LICENSE_CLASS', 'AIRBAG_DEPLOYED', 'EJECTION', 'HOSPITAL', 'EMS_AGENCY', 'EMS_RUN_NO', 'DRIVER_ACTION', 'DRIVER_VISION', 'PHYSICAL_CONDITION', 'PEDPEDAL_ACTION', 'PEDPEDAL_VISIBILITY', 'PEDPEDAL_LOCATION', 'BAC_RESULT', 'BAC_RESULT VALUE', 'CELL_PHONE_USE']\n",
    "dbCrashes = dates.drop(columns = toDrop)\n",
    "dbCrashes = dbCrashes.dropna(thresh = 6)\n",
    "dbCrashes.head()"
   ]
  },
  {
   "cell_type": "markdown",
   "id": "6a8deaa6",
   "metadata": {},
   "source": [
    "All the 'INJURY_CLASSIFICATION' that were 'FATAL' are extracted from dbCrashes to create a new dataframe with just the crashes which ended up in death of the person. The data in the 'SAFETY_EQUIPMENT' column is then filtered to only have one of the following three: SAFETY BELT NOT USED, SAFETY BELT USED and NONE PRESENT."
   ]
  },
  {
   "cell_type": "code",
   "execution_count": 66,
   "id": "b62ddec0",
   "metadata": {},
   "outputs": [],
   "source": [
    "fatal = dbCrashes[(dbCrashes['INJURY_CLASSIFICATION'] == 'FATAL')]\n",
    "safety = fatal[(fatal['SAFETY_EQUIPMENT'] == 'SAFETY BELT NOT USED') | (fatal['SAFETY_EQUIPMENT'] == 'SAFETY BELT USED') | (fatal['SAFETY_EQUIPMENT'] == 'NONE PRESENT')]"
   ]
  },
  {
   "cell_type": "markdown",
   "id": "35d89415",
   "metadata": {},
   "source": [
    "The data is grouped by count to count the number of fatalities for each 'SAFETY_EQUIPMENT' data value. This is data is visualized using a bar chart to compare which 'SAFETY_EQUIPMENT' value had the least or most number of fatalities."
   ]
  },
  {
   "cell_type": "code",
   "execution_count": 67,
   "id": "d31144b8",
   "metadata": {},
   "outputs": [],
   "source": [
    "pCount = safety.groupby(fatal['SAFETY_EQUIPMENT']).count()\n",
    "pCount = pCount.filter(['SAFETY_EQUIPMENT', 'NJURY_CLASSIFICATION'])"
   ]
  },
  {
   "cell_type": "code",
   "execution_count": 68,
   "id": "044955d9",
   "metadata": {},
   "outputs": [
    {
     "data": {
      "text/plain": [
       "<AxesSubplot:title={'center':'Frequency vs Safety_Equipment for Fatal Injuries'}, ylabel='SAFETY_EQUIPMENT'>"
      ]
     },
     "execution_count": 68,
     "metadata": {},
     "output_type": "execute_result"
    },
    {
     "data": {
      "image/png": "[encoded data removed]",
      "text/plain": [
       "<Figure size 720x576 with 1 Axes>"
      ]
     },
     "metadata": {
      "needs_background": "light"
     },
     "output_type": "display_data"
    }
   ],
   "source": [
    "pCount.plot.barh(stacked=True, color = 'r', figsize=(10, 8), title = \"Frequency vs Safety_Equipment for Fatal Injuries\")"
   ]
  },
  {
   "cell_type": "markdown",
   "id": "04c2c87c",
   "metadata": {},
   "source": [
    "All the 'INJURY_CLASSIFICATION' that were not 'FATAL' are extracted from dbCrashes to create a new dataframe with just the crashes which ended up in death of the person. The data in the 'SAFETY_EQUIPMENT' column is then filtered to only have one of the following three: SAFETY BELT NOT USED, SAFETY BELT USED and NONE PRESENT."
   ]
  },
  {
   "cell_type": "code",
   "execution_count": 69,
   "id": "2b784b9f",
   "metadata": {},
   "outputs": [],
   "source": [
    "nFatal = dbCrashes[(dbCrashes['INJURY_CLASSIFICATION'] != 'REPORTED, NOT EVIDENT') & (dbCrashes['INJURY_CLASSIFICATION'] != 'FATAL')]\n",
    "safety = nFatal[(nFatal['SAFETY_EQUIPMENT'] == 'SAFETY BELT NOT USED') | (nFatal['SAFETY_EQUIPMENT'] == 'SAFETY BELT USED') | (nFatal['SAFETY_EQUIPMENT'] == 'NONE PRESENT')]"
   ]
  },
  {
   "cell_type": "markdown",
   "id": "d1fab092",
   "metadata": {},
   "source": [
    "The data is grouped by count to count the number of fatalities for each 'SAFETY_EQUIPMENT' data value. This is data is visualized using a bar chart to compare which 'SAFETY_EQUIPMENT' value had the least or most number of injuries."
   ]
  },
  {
   "cell_type": "code",
   "execution_count": 70,
   "id": "a03d4b8f",
   "metadata": {},
   "outputs": [],
   "source": [
    "pCount = safety.groupby(nFatal['SAFETY_EQUIPMENT']).count()\n",
    "pCount = pCount.filter(['SAFETY_EQUIPMENT', 'NJURY_CLASSIFICATION'])"
   ]
  },
  {
   "cell_type": "code",
   "execution_count": 71,
   "id": "db3a6ae1",
   "metadata": {},
   "outputs": [
    {
     "data": {
      "text/plain": [
       "<AxesSubplot:title={'center':'Frequency vs Safety_Equipment for Non-Fatal Injuries'}, ylabel='SAFETY_EQUIPMENT'>"
      ]
     },
     "execution_count": 71,
     "metadata": {},
     "output_type": "execute_result"
    },
    {
     "data": {
      "image/png": "[encoded data removed]",
      "text/plain": [
       "<Figure size 720x576 with 1 Axes>"
      ]
     },
     "metadata": {
      "needs_background": "light"
     },
     "output_type": "display_data"
    }
   ],
   "source": [
    "pCount.plot.barh(stacked=True, figsize=(10, 8), title = \"Frequency vs Safety_Equipment for Non-Fatal Injuries\")"
   ]
  }
 ],
 "metadata": {
  "kernelspec": {
   "display_name": "Python 3 (ipykernel)",
   "language": "python",
   "name": "python3"
  },
  "language_info": {
   "codemirror_mode": {
    "name": "ipython",
    "version": 3
   },
   "file_extension": ".py",
   "mimetype": "text/x-python",
   "name": "python",
   "nbconvert_exporter": "python",
   "pygments_lexer": "ipython3",
   "version": "3.9.12"
  },
  "vscode": {
   "interpreter": {
    "hash": "0cfde8f117e9a200322c196792e79bdf874aac3590dbf5d606d2eef38c1c00ce"
   }
  }
 },
 "nbformat": 4,
 "nbformat_minor": 5
}
