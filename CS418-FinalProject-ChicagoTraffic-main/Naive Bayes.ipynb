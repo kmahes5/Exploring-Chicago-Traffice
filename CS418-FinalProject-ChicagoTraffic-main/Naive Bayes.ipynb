{
 "cells": [
  {
   "cell_type": "markdown",
   "id": "dc63d48b-2128-439a-a216-46439bdb519d",
   "metadata": {},
   "source": [
    "You can get the Traffic_Crashes_-_Crashes.csv from https://data.cityofchicago.org/Transportation/Traffic-Crashes-Crashes/85ca-t3if"
   ]
  },
  {
   "cell_type": "code",
   "execution_count": 1,
   "id": "1c24cba4-d50d-4cd5-998e-d913e0e68f65",
   "metadata": {},
   "outputs": [],
   "source": [
    "import pandas as pd\n",
    "\n",
    "data = pd.read_csv('Traffic_Crashes_-_Crashes.csv')\n",
    "crashes = data[['CRASH_TYPE', 'WEATHER_CONDITION', 'LIGHTING_CONDITION', 'ROADWAY_SURFACE_COND']]\n",
    "crashes = crashes.dropna()"
   ]
  },
  {
   "cell_type": "code",
   "execution_count": 2,
   "id": "fed1ce5b-032e-40f3-befe-fa5af5d60b11",
   "metadata": {},
   "outputs": [
    {
     "data": {
      "text/plain": [
       "array(['INJURY AND / OR TOW DUE TO CRASH', 'NO INJURY / DRIVE AWAY'],\n",
       "      dtype=object)"
      ]
     },
     "execution_count": 2,
     "metadata": {},
     "output_type": "execute_result"
    }
   ],
   "source": [
    "crashes['CRASH_TYPE'].unique()"
   ]
  },
  {
   "cell_type": "code",
   "execution_count": 3,
   "id": "c0779257-839e-476e-bc31-3efe6e9d17ee",
   "metadata": {},
   "outputs": [
    {
     "data": {
      "text/plain": [
       "array(['CLEAR', 'CLOUDY/OVERCAST', 'UNKNOWN', 'SNOW', 'RAIN',\n",
       "       'FREEZING RAIN/DRIZZLE', 'OTHER', 'FOG/SMOKE/HAZE', 'SLEET/HAIL',\n",
       "       'BLOWING SNOW', 'SEVERE CROSS WIND GATE',\n",
       "       'BLOWING SAND, SOIL, DIRT'], dtype=object)"
      ]
     },
     "execution_count": 3,
     "metadata": {},
     "output_type": "execute_result"
    }
   ],
   "source": [
    "crashes['WEATHER_CONDITION'].unique()"
   ]
  },
  {
   "cell_type": "code",
   "execution_count": 4,
   "id": "71a12578-68da-4aae-b7db-2254254c626f",
   "metadata": {},
   "outputs": [
    {
     "data": {
      "text/plain": [
       "array(['DAYLIGHT', 'DARKNESS, LIGHTED ROAD', 'UNKNOWN', 'DARKNESS',\n",
       "       'DAWN', 'DUSK'], dtype=object)"
      ]
     },
     "execution_count": 4,
     "metadata": {},
     "output_type": "execute_result"
    }
   ],
   "source": [
    "crashes['LIGHTING_CONDITION'].unique()"
   ]
  },
  {
   "cell_type": "code",
   "execution_count": 5,
   "id": "fc6c4696-a26b-4b80-9682-114d425c4f77",
   "metadata": {},
   "outputs": [
    {
     "data": {
      "text/plain": [
       "array(['DRY', 'UNKNOWN', 'SNOW OR SLUSH', 'WET', 'ICE', 'OTHER',\n",
       "       'SAND, MUD, DIRT'], dtype=object)"
      ]
     },
     "execution_count": 5,
     "metadata": {},
     "output_type": "execute_result"
    }
   ],
   "source": [
    "crashes['ROADWAY_SURFACE_COND'].unique()"
   ]
  },
  {
   "cell_type": "code",
   "execution_count": 6,
   "id": "58c8e3b5-9352-414e-8f55-01fe779c666b",
   "metadata": {},
   "outputs": [
    {
     "data": {
      "text/html": [
       "<div>\n",
       "<style scoped>\n",
       "    .dataframe tbody tr th:only-of-type {\n",
       "        vertical-align: middle;\n",
       "    }\n",
       "\n",
       "    .dataframe tbody tr th {\n",
       "        vertical-align: top;\n",
       "    }\n",
       "\n",
       "    .dataframe thead th {\n",
       "        text-align: right;\n",
       "    }\n",
       "</style>\n",
       "<table border=\"1\" class=\"dataframe\">\n",
       "  <thead>\n",
       "    <tr style=\"text-align: right;\">\n",
       "      <th></th>\n",
       "      <th>CRASH_TYPE</th>\n",
       "      <th>WEATHER_CONDITION</th>\n",
       "      <th>LIGHTING_CONDITION</th>\n",
       "      <th>ROADWAY_SURFACE_COND</th>\n",
       "    </tr>\n",
       "  </thead>\n",
       "  <tbody>\n",
       "    <tr>\n",
       "      <th>0</th>\n",
       "      <td>0</td>\n",
       "      <td>0</td>\n",
       "      <td>0</td>\n",
       "      <td>0</td>\n",
       "    </tr>\n",
       "    <tr>\n",
       "      <th>1</th>\n",
       "      <td>1</td>\n",
       "      <td>0</td>\n",
       "      <td>0</td>\n",
       "      <td>0</td>\n",
       "    </tr>\n",
       "    <tr>\n",
       "      <th>2</th>\n",
       "      <td>1</td>\n",
       "      <td>0</td>\n",
       "      <td>1</td>\n",
       "      <td>1</td>\n",
       "    </tr>\n",
       "    <tr>\n",
       "      <th>3</th>\n",
       "      <td>1</td>\n",
       "      <td>0</td>\n",
       "      <td>0</td>\n",
       "      <td>0</td>\n",
       "    </tr>\n",
       "    <tr>\n",
       "      <th>4</th>\n",
       "      <td>1</td>\n",
       "      <td>0</td>\n",
       "      <td>0</td>\n",
       "      <td>0</td>\n",
       "    </tr>\n",
       "  </tbody>\n",
       "</table>\n",
       "</div>"
      ],
      "text/plain": [
       "   CRASH_TYPE  WEATHER_CONDITION  LIGHTING_CONDITION  ROADWAY_SURFACE_COND\n",
       "0           0                  0                   0                     0\n",
       "1           1                  0                   0                     0\n",
       "2           1                  0                   1                     1\n",
       "3           1                  0                   0                     0\n",
       "4           1                  0                   0                     0"
      ]
     },
     "execution_count": 6,
     "metadata": {},
     "output_type": "execute_result"
    }
   ],
   "source": [
    "#Preprocessing (changing all strings/multivalue columns to numberical values)\n",
    "crashes['CRASH_TYPE'] = crashes['CRASH_TYPE'].replace({'INJURY AND / OR TOW DUE TO CRASH' : 0, 'NO INJURY / DRIVE AWAY' : 1})\n",
    "crashes['WEATHER_CONDITION'] = crashes['WEATHER_CONDITION'].replace({'CLEAR' : 0, 'CLOUDY/OVERCAST' : 1, 'UNKNOWN' : 2, 'SNOW' : 3, 'RAIN' : 4,\n",
    "       'FREEZING RAIN/DRIZZLE' : 5, 'OTHER' : 6, 'FOG/SMOKE/HAZE' : 7, 'SLEET/HAIL' : 8,\n",
    "       'BLOWING SNOW' : 9, 'SEVERE CROSS WIND GATE' : 10,\n",
    "       'BLOWING SAND, SOIL, DIRT' : 11})\n",
    "crashes['LIGHTING_CONDITION'] = crashes['LIGHTING_CONDITION'].replace({'DAYLIGHT' : 0, 'DARKNESS, LIGHTED ROAD' : 1, 'UNKNOWN' : 2, 'DARKNESS' : 3,\n",
    "       'DAWN' : 4, 'DUSK' : 5})\n",
    "crashes['ROADWAY_SURFACE_COND'] = crashes['LIGHTING_CONDITION'].replace({'DRY' : 0, 'UNKNOWN' : 1, 'SNOW OR SLUSH' : 2, 'WET' : 3, 'ICE' : 4, 'OTHER' : 5,\n",
    "       'SAND, MUD, DIRT' : 6})\n",
    "crashes.head()"
   ]
  },
  {
   "cell_type": "code",
   "execution_count": 7,
   "id": "5c14ec75-1fae-4c1a-8030-5f91b31c37c5",
   "metadata": {},
   "outputs": [
    {
     "name": "stdout",
     "output_type": "stream",
     "text": [
      "The original dataset contains 667886 examples in total.\n",
      "The training set contains 534308 examples.\n",
      "The testing set contains 133578 examples.\n"
     ]
    }
   ],
   "source": [
    "#Creating train and test sets\n",
    "from sklearn.model_selection import train_test_split\n",
    "dfWithoutClassification = crashes.drop(['CRASH_TYPE'],axis=1)\n",
    "\n",
    "X_train, X_test, y_train, y_test = train_test_split(dfWithoutClassification,crashes['CRASH_TYPE'],test_size=0.2, train_size=0.8,random_state=1)\n",
    "\n",
    "print(f'The original dataset contains {crashes.shape[0]} examples in total.')\n",
    "print(f'The training set contains {X_train.shape[0]} examples.')\n",
    "print(f'The testing set contains {X_test.shape[0]} examples.')"
   ]
  },
  {
   "cell_type": "code",
   "execution_count": 8,
   "id": "7fb4ecdb-7a52-4fdc-9ded-aa5a78822b85",
   "metadata": {},
   "outputs": [
    {
     "name": "stdout",
     "output_type": "stream",
     "text": [
      "Number of mislabeled points out of a total 133578 points : 35150\n"
     ]
    }
   ],
   "source": [
    "#Using Naive Bayes\n",
    "from sklearn.naive_bayes import GaussianNB\n",
    "\n",
    "NB = GaussianNB()\n",
    "y_pred = NB.fit(X_train,y_train).predict(X_test)\n",
    "print(\"Number of mislabeled points out of a total %d points : %d\" % (X_test.shape[0], (y_test != y_pred).sum()))"
   ]
  },
  {
   "cell_type": "code",
   "execution_count": 9,
   "id": "4a147bb9-604a-40b3-914b-38c579ed87c3",
   "metadata": {},
   "outputs": [
    {
     "name": "stdout",
     "output_type": "stream",
     "text": [
      "Accuracy Score:  0.7368578658162273 \n",
      " Confusion Matrix:  [[  392 34504]\n",
      " [  646 98036]] \n",
      " F1 Score:  0.8479815934469904\n"
     ]
    },
    {
     "data": {
      "image/png": "[encoded data removed]",
      "text/plain": [
       "<Figure size 432x288 with 1 Axes>"
      ]
     },
     "metadata": {
      "needs_background": "light"
     },
     "output_type": "display_data"
    },
    {
     "name": "stdout",
     "output_type": "stream",
     "text": [
      "AUC Score is:  0.502343549606928\n"
     ]
    },
    {
     "data": {
      "image/png": "[encoded data removed]",
      "text/plain": [
       "<Figure size 432x288 with 2 Axes>"
      ]
     },
     "metadata": {
      "needs_background": "light"
     },
     "output_type": "display_data"
    }
   ],
   "source": [
    "import sklearn.metrics\n",
    "import matplotlib.pyplot as plt\n",
    "import numpy as np\n",
    "from sklearn.metrics import roc_curve, roc_auc_score\n",
    "import seaborn as sns\n",
    "\n",
    "def plot_roc_curve(fpr, tpr):\n",
    "    plt.plot(fpr, tpr, color='blue', label='ROC')\n",
    "    plt.plot([0, 1], [0, 1], color='black', linestyle='--')\n",
    "    plt.xlabel('FPR')\n",
    "    plt.ylabel('TPR')\n",
    "    plt.title('ROC Curve')\n",
    "    plt.legend()\n",
    "    plt.show()\n",
    "\n",
    "acc = sklearn.metrics.accuracy_score(y_test,y_pred)\n",
    "cm = sklearn.metrics.confusion_matrix(y_test, y_pred)\n",
    "f1 = sklearn.metrics.f1_score(y_test, y_pred)\n",
    "print(\"Accuracy Score: \", acc, \"\\n Confusion Matrix: \", cm, \"\\n F1 Score: \", f1)\n",
    "\n",
    "fpr, tpr, thresholds = roc_curve(y_test,y_pred, pos_label=1)\n",
    "plot_roc_curve(fpr, tpr)\n",
    "\n",
    "#creating confusion matrix visualization\n",
    "group_names = ['True Neg','False Pos','False Neg','True Pos']\n",
    "group_counts = [\"{0:0.0f}\".format(value) for value in\n",
    "                cm.flatten()]\n",
    "group_percentages = [\"{0:.2%}\".format(value) for value in\n",
    "                     cm.flatten()/np.sum(cm)]\n",
    "labels = [f\"{v1}\\n{v2}\\n{v3}\" for v1, v2, v3 in\n",
    "          zip(group_names,group_counts,group_percentages)]\n",
    "labels = np.asarray(labels).reshape(2,2)\n",
    "sns.heatmap(cm, annot=labels, fmt='', cmap='Reds')\n",
    "AUC_score = roc_auc_score(y_test,y_pred)\n",
    "print(\"AUC Score is: \", AUC_score)"
   ]
  },
  {
   "cell_type": "markdown",
   "id": "0bf1b58d-bfad-4118-8fcd-147c63e39e53",
   "metadata": {},
   "source": [
    "So the Model gave a Type 1 error of 25.83% and a Type 2 error of 0.48%.\n",
    "\n",
    "The Type 1 error is more severe because we don't want to falsely assume that there will be no injury or towing when in fact there was a chance of it.\n",
    "\n",
    "The F1 Score: 0.8479815934469904 is the Harmonic Mean of precision and recall. The closer it is to 1 the better the model, since it is 0.847 this must be a good model (AKA the measure of the models accuracy on the dataset).\n",
    "\n",
    "The ROC curve (receiver operating characteristic curve) is a graph showing the performance of a classification model at all classification thresholds. It graphs it on TPR(True Positive Rate) and FPR(False Positive Rate)\n",
    "\n",
    "The AUC Score is: 0.502343549606928 is the area under the curve of the ROC graph. It is an aggregate measure of performance across all possible classification thresholds. One way of interpreting AUC is as the probability that the model ranks a random positive example more highly than a random negative example. Since the score is .5 that means that the model has predictions that are 50% right and 50% wrong.\n",
    "\n",
    "It is interesting that the AUC tells us that the model is right 50% of the time while the accuracy of the model itself is 0.7368578658162273."
   ]
  },
  {
   "cell_type": "code",
   "execution_count": 10,
   "id": "9b24b49c-09b2-41b5-9172-bbe2ede07f5d",
   "metadata": {},
   "outputs": [
    {
     "name": "stderr",
     "output_type": "stream",
     "text": [
      "/home/isoni/.local/lib/python3.8/site-packages/sklearn/base.py:450: UserWarning: X does not have valid feature names, but GaussianNB was fitted with feature names\n",
      "  warnings.warn(\n"
     ]
    },
    {
     "data": {
      "text/plain": [
       "array([1])"
      ]
     },
     "execution_count": 10,
     "metadata": {},
     "output_type": "execute_result"
    }
   ],
   "source": [
    "NB.predict([[3, 1, 4]]) #SNOW, DARKNESS_LIGHTED_ROAD, ICE"
   ]
  },
  {
   "cell_type": "code",
   "execution_count": 11,
   "id": "91453bd0-4244-4944-b501-98a0319f66b5",
   "metadata": {},
   "outputs": [
    {
     "name": "stderr",
     "output_type": "stream",
     "text": [
      "/home/isoni/.local/lib/python3.8/site-packages/sklearn/base.py:450: UserWarning: X does not have valid feature names, but GaussianNB was fitted with feature names\n",
      "  warnings.warn(\n"
     ]
    },
    {
     "data": {
      "text/plain": [
       "array([1])"
      ]
     },
     "execution_count": 11,
     "metadata": {},
     "output_type": "execute_result"
    }
   ],
   "source": [
    "NB.predict([[0, 0, 0]]) #CLEAR, DAYLIGHT, DRY"
   ]
  },
  {
   "cell_type": "code",
   "execution_count": 12,
   "id": "0b466ad6-6a9a-41fd-bd1b-0a16a01ee66a",
   "metadata": {},
   "outputs": [
    {
     "name": "stderr",
     "output_type": "stream",
     "text": [
      "/home/isoni/.local/lib/python3.8/site-packages/sklearn/base.py:450: UserWarning: X does not have valid feature names, but GaussianNB was fitted with feature names\n",
      "  warnings.warn(\n"
     ]
    },
    {
     "data": {
      "text/plain": [
       "array([0])"
      ]
     },
     "execution_count": 12,
     "metadata": {},
     "output_type": "execute_result"
    }
   ],
   "source": [
    "NB.predict([[9, 3, 3]]) #BLOWING SNOW, DARKNESS, WET"
   ]
  },
  {
   "cell_type": "markdown",
   "id": "6dac09c1-89f5-4575-b936-1533876579f8",
   "metadata": {},
   "source": [
    "The NB model predicts that cars in the following conditions:\n",
    "\n",
    "SNOW, DARKNESS_LIGHTED_ROAD, ICE has NO INJURY / DRIVE AWAY\n",
    "\n",
    "CLEAR, DAYLIGHT, DRY has NO INJURY / DRIVE AWAY\n",
    "\n",
    "BLOWING SNOW, DARKNESS, WET has INJURY AND / OR TOW DUE TO CRASH\n"
   ]
  }
 ],
 "metadata": {
  "kernelspec": {
   "display_name": "Python 3 (ipykernel)",
   "language": "python",
   "name": "python3"
  },
  "language_info": {
   "codemirror_mode": {
    "name": "ipython",
    "version": 3
   },
   "file_extension": ".py",
   "mimetype": "text/x-python",
   "name": "python",
   "nbconvert_exporter": "python",
   "pygments_lexer": "ipython3",
   "version": "3.8.10"
  }
 },
 "nbformat": 4,
 "nbformat_minor": 5
}
